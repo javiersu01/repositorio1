{
 "cells": [
  {
   "cell_type": "code",
   "execution_count": 1,
   "id": "74be6b6c",
   "metadata": {},
   "outputs": [
    {
     "data": {
      "text/html": [
       "<div>\n",
       "<style scoped>\n",
       "    .dataframe tbody tr th:only-of-type {\n",
       "        vertical-align: middle;\n",
       "    }\n",
       "\n",
       "    .dataframe tbody tr th {\n",
       "        vertical-align: top;\n",
       "    }\n",
       "\n",
       "    .dataframe thead th {\n",
       "        text-align: right;\n",
       "    }\n",
       "</style>\n",
       "<table border=\"1\" class=\"dataframe\">\n",
       "  <thead>\n",
       "    <tr style=\"text-align: right;\">\n",
       "      <th></th>\n",
       "      <th>ID_EQUIPO</th>\n",
       "      <th>ID_TIPO_EQUIPO</th>\n",
       "      <th>UBICACION</th>\n",
       "      <th>FECHA_INSTALACION</th>\n",
       "      <th>FECHA_CONSULTA</th>\n",
       "    </tr>\n",
       "  </thead>\n",
       "  <tbody>\n",
       "    <tr>\n",
       "      <th>0</th>\n",
       "      <td>2020018163</td>\n",
       "      <td>RMDT</td>\n",
       "      <td>362</td>\n",
       "      <td>14/07/22</td>\n",
       "      <td>08/11/22</td>\n",
       "    </tr>\n",
       "    <tr>\n",
       "      <th>1</th>\n",
       "      <td>2020018185</td>\n",
       "      <td>RMDT</td>\n",
       "      <td>351</td>\n",
       "      <td>20/06/22</td>\n",
       "      <td>08/11/22</td>\n",
       "    </tr>\n",
       "    <tr>\n",
       "      <th>2</th>\n",
       "      <td>2020018194</td>\n",
       "      <td>RMDT</td>\n",
       "      <td>356</td>\n",
       "      <td>20/06/22</td>\n",
       "      <td>08/11/22</td>\n",
       "    </tr>\n",
       "    <tr>\n",
       "      <th>3</th>\n",
       "      <td>2020018197</td>\n",
       "      <td>RMDT</td>\n",
       "      <td>326</td>\n",
       "      <td>20/06/22</td>\n",
       "      <td>08/11/22</td>\n",
       "    </tr>\n",
       "    <tr>\n",
       "      <th>4</th>\n",
       "      <td>2020018217</td>\n",
       "      <td>RMDT</td>\n",
       "      <td>340</td>\n",
       "      <td>20/06/22</td>\n",
       "      <td>08/11/22</td>\n",
       "    </tr>\n",
       "  </tbody>\n",
       "</table>\n",
       "</div>"
      ],
      "text/plain": [
       "    ID_EQUIPO ID_TIPO_EQUIPO UBICACION FECHA_INSTALACION FECHA_CONSULTA\n",
       "0  2020018163           RMDT       362          14/07/22       08/11/22\n",
       "1  2020018185           RMDT       351          20/06/22       08/11/22\n",
       "2  2020018194           RMDT       356          20/06/22       08/11/22\n",
       "3  2020018197           RMDT       326          20/06/22       08/11/22\n",
       "4  2020018217           RMDT       340          20/06/22       08/11/22"
      ]
     },
     "execution_count": 1,
     "metadata": {},
     "output_type": "execute_result"
    }
   ],
   "source": [
    "import pandas as pd\n",
    "tt=pd.read_csv('data.csv')\n",
    "tt.head()"
   ]
  },
  {
   "cell_type": "markdown",
   "id": "5362e06e",
   "metadata": {},
   "source": [
    "# Numpy"
   ]
  },
  {
   "cell_type": "code",
   "execution_count": 5,
   "id": "d20d1bf2",
   "metadata": {},
   "outputs": [
    {
     "data": {
      "text/html": [
       "<div>\n",
       "<style scoped>\n",
       "    .dataframe tbody tr th:only-of-type {\n",
       "        vertical-align: middle;\n",
       "    }\n",
       "\n",
       "    .dataframe tbody tr th {\n",
       "        vertical-align: top;\n",
       "    }\n",
       "\n",
       "    .dataframe thead th {\n",
       "        text-align: right;\n",
       "    }\n",
       "</style>\n",
       "<table border=\"1\" class=\"dataframe\">\n",
       "  <thead>\n",
       "    <tr style=\"text-align: right;\">\n",
       "      <th></th>\n",
       "      <th>0</th>\n",
       "      <th>1</th>\n",
       "      <th>2</th>\n",
       "    </tr>\n",
       "  </thead>\n",
       "  <tbody>\n",
       "    <tr>\n",
       "      <th>0</th>\n",
       "      <td>2</td>\n",
       "      <td>5</td>\n",
       "      <td>8</td>\n",
       "    </tr>\n",
       "    <tr>\n",
       "      <th>1</th>\n",
       "      <td>2</td>\n",
       "      <td>5</td>\n",
       "      <td>6</td>\n",
       "    </tr>\n",
       "    <tr>\n",
       "      <th>2</th>\n",
       "      <td>10</td>\n",
       "      <td>11</td>\n",
       "      <td>12</td>\n",
       "    </tr>\n",
       "  </tbody>\n",
       "</table>\n",
       "</div>"
      ],
      "text/plain": [
       "    0   1   2\n",
       "0   2   5   8\n",
       "1   2   5   6\n",
       "2  10  11  12"
      ]
     },
     "execution_count": 5,
     "metadata": {},
     "output_type": "execute_result"
    }
   ],
   "source": [
    "import numpy as np\n",
    "import pandas as pd\n",
    "unidades_datos=np.array([[2,5,8],[2,5,6],[10,11,12]])\n",
    "unidades_datos\n",
    "unidades=pd.DataFrame(unidades_datos)\n",
    "unidades"
   ]
  },
  {
   "cell_type": "markdown",
   "id": "36697901",
   "metadata": {},
   "source": [
    "# MAtplotlib"
   ]
  },
  {
   "cell_type": "code",
   "execution_count": 14,
   "id": "4d446098",
   "metadata": {},
   "outputs": [
    {
     "data": {
      "text/plain": [
       "[<matplotlib.lines.Line2D at 0x1ad15c9a670>]"
      ]
     },
     "execution_count": 14,
     "metadata": {},
     "output_type": "execute_result"
    },
    {
     "data": {
      "image/png": "[encoded data removed]",
      "text/plain": [
       "<Figure size 640x480 with 1 Axes>"
      ]
     },
     "metadata": {},
     "output_type": "display_data"
    }
   ],
   "source": [
    "import matplotlib as mpl\n",
    "import matplotlib.pyplot as plt\n",
    "\n",
    "fig,ax = plt.subplots()\n",
    "ax.plot ([10,20,30,40],[20,15,30,40])"
   ]
  },
  {
   "cell_type": "markdown",
   "id": "29f22822",
   "metadata": {},
   "source": [
    "# tecnica WebScraping-busca una libreria"
   ]
  },
  {
   "cell_type": "code",
   "execution_count": null,
   "id": "777b2c34",
   "metadata": {},
   "outputs": [],
   "source": [
    "rhrthrthrt"
   ]
  },
  {
   "cell_type": "markdown",
   "id": "d851052f",
   "metadata": {},
   "source": [
    "# reto"
   ]
  },
  {
   "cell_type": "code",
   "execution_count": null,
   "id": "eaa836c0",
   "metadata": {},
   "outputs": [],
   "source": [
    "te piden una frase y tu muestras las plabras ordenadas alfabeticamente en mayusculas. gana quien lo haga en menos lienas"
   ]
  },
  {
   "cell_type": "code",
   "execution_count": 24,
   "id": "45dc4ddd",
   "metadata": {},
   "outputs": [
    {
     "name": "stdout",
     "output_type": "stream",
     "text": [
      "Dime tu frase buenos dias a todos\n"
     ]
    },
    {
     "data": {
      "text/plain": [
       "['A', 'BUENOS', 'DIAS', 'TODOS']"
      ]
     },
     "execution_count": 24,
     "metadata": {},
     "output_type": "execute_result"
    }
   ],
   "source": [
    "frase=input('Dime tu frase ')\n",
    "sorted(frase.upper().split(' '))"
   ]
  },
  {
   "cell_type": "code",
   "execution_count": null,
   "id": "b87dc4e2",
   "metadata": {},
   "outputs": [],
   "source": []
  }
 ],
 "metadata": {
  "kernelspec": {
   "display_name": "Python 3 (ipykernel)",
   "language": "python",
   "name": "python3"
  },
  "language_info": {
   "codemirror_mode": {
    "name": "ipython",
    "version": 3
   },
   "file_extension": ".py",
   "mimetype": "text/x-python",
   "name": "python",
   "nbconvert_exporter": "python",
   "pygments_lexer": "ipython3",
   "version": "3.9.13"
  }
 },
 "nbformat": 4,
 "nbformat_minor": 5
}
